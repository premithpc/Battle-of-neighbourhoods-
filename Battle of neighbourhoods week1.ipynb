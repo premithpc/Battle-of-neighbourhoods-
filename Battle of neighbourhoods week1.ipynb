{
    "cells": [
        {
            "cell_type": "markdown",
            "metadata": {
                "collapsed": true
            },
            "source": "Capstone Project - The Battle of Neighborhoods"
        },
        {
            "cell_type": "markdown",
            "metadata": {},
            "source": "Introduction\n\nBusiness problem: Recommend a location in Hong Kong to open a new cinema\n\nOne of the Hong Kong Business Magnates and the stakeholder wants to open a new cinema as company's new business in Hong kong\n\nThey  explains that watching movie is a part of whole afternoon or night activities. Cinema should has many restaurants and shopping places nearby. Transportation is also an important factor. Customer can walk to cinema within a few  minutes from public transport facilities is perfect.\n\nThey want me concentrated on selection of cinema location according to its nearby environment. Cinema facility and rental price is not our concern. They lists out their top 10 favorite cinemas in Hong Kong with rating.\n\nselecting  5 possible locations to build the cinema. Which location should be suggested to the stakeholder?\n"
        },
        {
            "cell_type": "markdown",
            "metadata": {},
            "source": "Data used for solving this problem\n\nAccording to the question, following data are required.\n1. Geographic coordinate of Hong Kong cinemas\n\n2. need to compare 5 possible locations with current cinemas in Hong Kong. Therefore,\nI need to find a list of Hong Kong cinema and cinemas' geographic coordinates.\nLuckily, I can find the list and coordinates from the website https://hkmovie6.com/cinema .\n"
        }
    ],
    "metadata": {
        "kernelspec": {
            "display_name": "Python 3.6",
            "language": "python",
            "name": "python3"
        },
        "language_info": {
            "codemirror_mode": {
                "name": "ipython",
                "version": 3
            },
            "file_extension": ".py",
            "mimetype": "text/x-python",
            "name": "python",
            "nbconvert_exporter": "python",
            "pygments_lexer": "ipython3",
            "version": "3.6.9"
        }
    },
    "nbformat": 4,
    "nbformat_minor": 1
}