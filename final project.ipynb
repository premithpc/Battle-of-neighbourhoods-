{
    "cells": [
        {
            "cell_type": "markdown",
            "metadata": {
                "collapsed": true
            },
            "source": "Capstone Project - The Battle of Neighborhoods\n\nIntroduction\n\nEvey time I go abroad I have the same problem of which hotel to choose and which nice places there are around the hotel. I usually short of time and I need everything to be close to me in the best way possibe. I want to find the best hotels in the best locations. Everywhere.\n\nBusiness Problem\n\nThe searching procedure of hotels can be very frustrating. You don't realy know the city and where is the best places for you to stay depending on the quality of the hotel and the surroundings. It can take a lot of time to find a hotel which provides you the best deal for your stay. Everyone who is going to stay in a hotelcan be a potentional client of this project.\n\nStrategy\n\nThe aim of my work is to use machine learning in order to find the best hotels in the best areas and let the costumer to choose from a very limited collection of \"the best of the best\" what hotel is his number 1 hotel. This work will Use Foursquare API to get the Data of Hotels in any City provided by the User, it will display ratings of the hotels. So we can Rank Hotels. the code will also search for Nearby Places for the Top 5 Hotels and Display them to the user. It will help them to choosing the Hotel based on their Personal Favorable Nearby Places.\n\nData\n\nUser will write down the name of the city and using Geopy Library, he will get it's coordinates. Using Folium library, a map of his chosen location will be made. On top of that map he will see the hotels and the surroundings.\nUsing Foursquare API the user will get hotels in a redius of 7 KM from his city of choice. A JSON file will be produced and it will be converted to Pandas DataFrame containing all the relevant hotels data.\nHaving hotel ID's, using foursquare API, the user will get ratings of the hotels in a data frame.\nThe next stage is to get top 5 by sorting them into a data frame.\nHaving the hotels locations, Foursquare API can find places in the area around the hotel. This data frame will be combined with the hotels data frame.\nFinally, a map all Nearby Places along with the 5 Hotels will be generated with clusters of Hotels + Nearby Places using K-Means Algorithm.\n\nImport the relevant libraries:"
        },
        {
            "cell_type": "code",
            "execution_count": null,
            "metadata": {},
            "outputs": [],
            "source": "import numpy as np # library to handle data in a vectorized manner\n\nimport pandas as pd # library for data analsysis\npd.set_option('display.max_columns', None)\npd.set_option('display.max_rows', None)\n\nimport json # library to handle JSON files\n\n!conda install -c conda-forge geopy --yes \nfrom geopy.geocoders import Nominatim # convert an address into latitude and longitude values\n\nimport requests # library to handle requests\nfrom pandas.io.json import json_normalize # tranform JSON file into a pandas dataframe\n\n# Matplotlib and associated plotting modules\nimport matplotlib.cm as cm\nimport matplotlib.colors as colors\n\n# import k-means from clustering stage\nfrom sklearn.cluster import KMeans\nimport pandas as pd\nimport numpy as np\n\n!conda install -c conda-forge folium=0.5.0 --yes \nimport folium # map rendering library\n\nprint('Libraries imported.')\n\n"
        },
        {
            "cell_type": "markdown",
            "metadata": {},
            "source": "1. Check for hotels info at Foursquare\n"
        },
        {
            "cell_type": "code",
            "execution_count": null,
            "metadata": {},
            "outputs": [],
            "source": "#Define Foursquare Credentials and Version\nCLIENT_ID = 'W1LVTWIPDLTONF0IUDBTE3ZW2KAG4NXB4MAXHLPWVFRXBJXZ' # your Foursquare ID\nCLIENT_SECRET = '0FTT5AYQ3PH0N50PTR0IAUYZMIR35UVTDE5A1SK1XYT1H3GU' # your Foursquare Secret\nVERSION = '20180605' # Foursquare API version\n"
        },
        {
            "cell_type": "code",
            "execution_count": null,
            "metadata": {},
            "outputs": [],
            "source": "# Search for hotels in Miami\nsearch_query = 'hotel'\nradius = 70000 # 7 KM\nurl = 'https://api.foursquare.com/v2/venues/search?client_id={}&client_secret={}&ll={},{}&v={}&query={}&radius={}'.format(CLIENT_ID, CLIENT_SECRET, latitude, longitude, VERSION, search_query, radius)\nresult_hotels = requests.get(url).json()\nresult_hotels"
        },
        {
            "cell_type": "code",
            "execution_count": null,
            "metadata": {},
            "outputs": [],
            "source": "#create a map of Miami area:\nMiami = folium.Map(location=[latitude, longitude], zoom_start=12)\n   \nMiami"
        },
        {
            "cell_type": "markdown",
            "metadata": {},
            "source": "Arrange the data:"
        },
        {
            "cell_type": "code",
            "execution_count": null,
            "metadata": {},
            "outputs": [],
            "source": "\n# assign relevant part of JSON to hotel\nhotels = result_hotels['response']['venues']\n\n# tranform hotels into a dataframe\ndf_hotels = json_normalize(hotels)\ndf_hotels.shape"
        },
        {
            "cell_type": "code",
            "execution_count": null,
            "metadata": {},
            "outputs": [],
            "source": "# keep only columns that include hotel name, and anything that is associated with location:\nfiltered_columns = ['name', 'categories'] + [col for col in df_hotels.columns if col.startswith('location.')] + ['id']\ndf_hotels_filtered = df_hotels.loc[:, filtered_columns]\n\n# function that extracts the category of the hotels\ndef get_category_type(row):\n    try:\n        categories_list = row['categories']\n    except:\n        categories_list = row['venue.categories']\n        \n    if len(categories_list) == 0:\n        return None\n    else:\n        return categories_list[0]['name']\n\n# filter the category for each row\ndf_hotels_filtered['categories'] = df_hotels_filtered.apply(get_category_type, axis=1)\n\n# clean column names by keeping only last term\ndf_hotels_filtered.columns = [column.split('.')[-1] for column in df_hotels_filtered.columns]\n\npd.DataFrame(df_hotels_filtered)\ndf_hotels_filtered"
        },
        {
            "cell_type": "code",
            "execution_count": null,
            "metadata": {},
            "outputs": [],
            "source": "\n# drop unrelevant columns:\ndf_hotels_filtered.drop(['crossStreet', 'labeledLatLngs', 'postalCode', 'state', 'country', 'city'], axis=1, inplace=True)\ndf_hotels_filtered.head()"
        },
        {
            "cell_type": "code",
            "execution_count": null,
            "metadata": {},
            "outputs": [],
            "source": "# create map of Miami using latitude and longitude values:\nmap_miami = folium.Map(location=[latitude, longitude], zoom_start=12)\n\n# add markers to map\nfor lat, lng, label in zip(df_hotels_filtered['lat'], df_hotels_filtered['lng'], df_hotels_filtered['name']):\n    label = '{}'.format(label)\n    label = folium.Popup(label, parse_html=True)\n    folium.CircleMarker(\n        [lat, lng],\n        radius=5,\n        popup=label,\n        color='blue',\n        fill=True,\n        fill_color='#3186cc',\n        fill_opacity=0.7,\n        parse_html=False).add_to(map_miami)  \n    \nmap_miami"
        },
        {
            "cell_type": "markdown",
            "metadata": {},
            "source": "Methodology\n\nOur aim is to search for the best hotels in a 7 KM Radius from Miami coordinates\nWe have collected the required data: location(coordinates) and type (category) of every Hotel (From Foursquare API).\nNext, using foursquare API, we will gather hotels rating and focus on top 5 and their surroundings.\nIn third and final step we will focus on most promising areas and within those create clusters of locations that meet some basic requirements established in discussion with stakeholders: We will Cluster Hotel and their Nearby Places using K-means Clustering.\n\n2. Get Ratings for All Hotels\n\nUsing For Loop we will Iterate to every Hotels and Fetch Corresponding Ratings and then Store it in new dataframe ratings"
        },
        {
            "cell_type": "code",
            "execution_count": null,
            "metadata": {},
            "outputs": [],
            "source": "\nratings = pd.DataFrame()\nlist1 = pd.Series([]) \nlist2 = pd.Series([]) \nfor i in range(len(df_hotels_filtered.id)):\n    hotel_id = df_hotels_filtered.id[i] # ID of Hotels\n    url = 'https://api.foursquare.com/v2/venues/{}?client_id={}&client_secret={}&v={}'.format(hotel_id, CLIENT_ID, CLIENT_SECRET, VERSION)\n    result = requests.get(url).json()\n    #Let's Check for Ratings, If Available then store it and if not, then store 0\n    try:\n        list1[i] = result['response']['venue']['rating'] \n        list2[i] = df_hotels_filtered.id[i]\n    except:\n        list1[i] = 0\n        list2[i] = df_hotels_filtered.id[i]\n         \n        \nratings.insert(0, \"ID\", list2, allow_duplicates=True)\nratings.insert(1, \"Ratings\", list1, allow_duplicates=True)\nratings"
        },
        {
            "cell_type": "code",
            "execution_count": null,
            "metadata": {},
            "outputs": [],
            "source": "\n#merge both dataframes based on id\nratings.columns = ['id', 'Ratings']\ndf_hotels_filtered = pd.merge(df_hotels_filtered,\n                 ratings,\n                 on='id')\ndf_hotels_filtered"
        },
        {
            "cell_type": "markdown",
            "metadata": {},
            "source": "Lets Remove Hotels with No Ratings"
        },
        {
            "cell_type": "code",
            "execution_count": null,
            "metadata": {},
            "outputs": [],
            "source": "df_hotels_filtered = df_hotels_filtered.set_index(\"Ratings\")\ndf_hotels_filtered = df_hotels_filtered.drop(0.0, axis=0) # Delete all rows with Ratings 0\ndf_hotels_filtered"
        },
        {
            "cell_type": "code",
            "execution_count": null,
            "metadata": {},
            "outputs": [],
            "source": "\n#Sorting the Ratings\ndf_hotels_filtered.sort_values('Ratings', ascending=False, inplace=True) \n\n#Make new dataframe for top5 hotels\ndf_top5_hotels = df_hotels_filtered.head(5)\ndf_top5_hotels"
        },
        {
            "cell_type": "markdown",
            "metadata": {},
            "source": "Show top 5 hotels in Miami on map:"
        },
        {
            "cell_type": "code",
            "execution_count": null,
            "metadata": {},
            "outputs": [],
            "source": "# create map of Miami using latitude and longitude values\ntop5_miami = folium.Map(location=[latitude, longitude], zoom_start=12)\n\n# add markers to map\nfor lat, lng, label in zip(df_top5_hotels['lat'], df_top5_hotels['lng'], df_top5_hotels['name']):\n    label = '{}'.format(label)\n    label = folium.Popup(label, parse_html=True)\n    folium.CircleMarker(\n        [lat, lng],\n        radius=5,\n        popup=label,\n        color='blue',\n        fill=True,\n        fill_color='#3186cc',\n        fill_opacity=0.7,\n        parse_html=False).add_to(top5_miami)  \n    \ntop5_miami"
        },
        {
            "cell_type": "markdown",
            "metadata": {},
            "source": "3. Search for Nearby Places\n\nFirst, we have created blank Dictionary 'd' to store multiple dataframes, Each Dataframe contains 10 Nearby Places under the radius of 500 Meters from the Hotel.\nThen, using For Loop we can iterate to Every Hotel's Co-ordinates and search for Nearby Places. then Finally filtering Columns we will store Dataframe in Dictionary\u00b6"
        },
        {
            "cell_type": "code",
            "execution_count": null,
            "metadata": {},
            "outputs": [],
            "source": "\nd = {}\nfor i in range(len(df_top5_hotels)):\n    d[i] = pd.DataFrame()\n    lat = df_top5_hotels['lat'].iloc[i]\n    lng = df_top5_hotels['lng'].iloc[i]\n    LIMIT=10\n    radius = 500\n    url = 'https://api.foursquare.com/v2/venues/explore?client_id={}&client_secret={}&near={},{}&v={}&radius={}&limit={}'.format(CLIENT_ID, CLIENT_SECRET, lat, lng, VERSION, radius, LIMIT)\n    results = requests.get(url).json()\n    items = results['response']['groups'][0]['items']\n    dataframe = json_normalize(items) # flatten JSON\n      \n    # filter columns\n    filtered_columns = ['venue.name', 'venue.categories'] + [col for col in dataframe.columns if col.startswith('venue.location.')] + ['venue.id']\n    df = dataframe.loc[:, filtered_columns]\n    \n    # filter the category for each row\n    df['venue.categories'] = df.apply(get_category_type, axis=1)\n    \n    # clean columns\n    df.columns = [col.split('.')[-1] for col in df.columns]\n    \n    d[i] = df"
        },
        {
            "cell_type": "code",
            "execution_count": null,
            "metadata": {},
            "outputs": [],
            "source": "\n#Extracting Dataframes from 'd' and storing into new dataframe for each hotels\ndf_hotel1 = d[0]\ndf_hotel2 = d[1]\ndf_hotel3 = d[2]\ndf_hotel4 = d[3]\ndf_hotel5 = d[4]\ndf_hotel1"
        },
        {
            "cell_type": "code",
            "execution_count": null,
            "metadata": {},
            "outputs": [],
            "source": "# let's clean unwanted columns:\n\ndf_hotel1.drop(['crossStreet', 'labeledLatLngs', 'postalCode', 'state', 'country', 'city', 'neighborhood', 'address', 'cc'], axis=1, inplace=True)\ndf_hotel2.drop(['crossStreet', 'labeledLatLngs', 'postalCode', 'state', 'country', 'city', 'neighborhood', 'address', 'cc'], axis=1, inplace=True)\ndf_hotel3.drop(['crossStreet', 'labeledLatLngs', 'postalCode', 'state', 'country', 'city', 'neighborhood', 'address', 'cc'], axis=1, inplace=True)\ndf_hotel4.drop(['crossStreet', 'labeledLatLngs', 'postalCode', 'state', 'country', 'city', 'neighborhood', 'address', 'cc'], axis=1, inplace=True)\ndf_hotel5.drop(['crossStreet', 'labeledLatLngs', 'postalCode', 'state', 'country', 'city', 'neighborhood', 'address', 'cc'], axis=1, inplace=True)\n\ndf_hotel5.head()"
        },
        {
            "cell_type": "code",
            "execution_count": null,
            "metadata": {},
            "outputs": [],
            "source": "# We have to Remove Special Characters from dataframe inorder to use Place names as a label on map\n\n#replace (') with blank \ndf_hotel1 = df_hotel1.replace('\\'','',regex=True)\ndf_hotel2 = df_hotel2.replace('\\'','',regex=True)\ndf_hotel3 = df_hotel3.replace('\\'','',regex=True)\ndf_hotel4 = df_hotel4.replace('\\'','',regex=True)\ndf_hotel5 = df_hotel5.replace('\\'','',regex=True)\n\ndf_hotel5.head()"
        },
        {
            "cell_type": "code",
            "execution_count": null,
            "metadata": {},
            "outputs": [],
            "source": "# In order to have a better look at the center of interest, I add 0.04 to the longitud\nmiami_hotels_map = folium.Map(location=[latitude, longitude+0.04], zoom_start=14) # generate map centred around Miami\n\n# add a marker to represent Hotel1\nfolium.Marker(\n    [df_top5_hotels['lat'].iloc[0], df_top5_hotels['lng'].iloc[0]],\n    popup=df_top5_hotels['name'].iloc[0],\n    ).add_to(miami_hotels_map)\n\n# add the Nearby Places as blue circle markers\nfor lat, lng, label in zip(df_hotel1['lat'], df_hotel1['lng'], df_hotel1['name']):\n    folium.features.CircleMarker(\n        [lat, lng],\n        radius=5,\n        color='blue',\n        popup=label,\n        fill = True,\n        fill_color='blue',\n        fill_opacity=0.6\n        ).add_to(miami_hotels_map)\n    \n# add a marker to represent Hotel2\nfolium.Marker(\n    [df_top5_hotels['lat'].iloc[1], df_top5_hotels['lng'].iloc[1]],\n    popup=df_top5_hotels['name'].iloc[1],\n    ).add_to(miami_hotels_map)\n\n# add the Nearby Places as green circle markers\nfor lat1, lng1, label1 in zip(df_hotel2['lat'], df_hotel2['lng'], df_hotel2['name']):\n    folium.features.CircleMarker(\n        [lat1, lng1],\n        radius=5,\n        color='green',\n        popup=label1,\n        fill = True,\n        fill_color='green',\n        fill_opacity=0.6\n        ).add_to(miami_hotels_map)\n    \n# add a marker to represent Hotel3\nfolium.Marker(\n    [df_top5_hotels['lat'].iloc[2], df_top5_hotels['lng'].iloc[2]],\n    popup=df_top5_hotels['name'].iloc[2],\n    ).add_to(miami_hotels_map)\n\n# add the Nearby Places as orange circle markers\nfor lat, lng, label in zip(df_hotel3['lat'], df_hotel3['lng'], df_hotel3['name']):\n    folium.features.CircleMarker(\n        [lat, lng],\n        radius=5,\n        color='orange',\n        popup=label,\n        fill = True,\n        fill_color='orange',\n        fill_opacity=0.6\n        ).add_to(miami_hotels_map)\n    \n# add a marker to represent Hotel4\nfolium.Marker(\n    [df_top5_hotels['lat'].iloc[3], df_top5_hotels['lng'].iloc[3]],\n    popup=df_top5_hotels['name'].iloc[3],\n    ).add_to(miami_hotels_map)\n\n# add the Nearby Places as purple circle markers\nfor lat, lng, label in zip(df_hotel4['lat'], df_hotel4['lng'], df_hotel4['name']):\n    folium.features.CircleMarker(\n        [lat, lng],\n        radius=5,\n        color='purple',\n        popup=label,\n        fill = True,\n        fill_color='purple',\n        fill_opacity=0.6\n        ).add_to(miami_hotels_map)\n    \n# add a marker to represent Hotel5\nfolium.Marker(\n    [df_top5_hotels['lat'].iloc[4], df_top5_hotels['lng'].iloc[4]],\n    popup=df_top5_hotels['name'].iloc[4],\n    ).add_to(miami_hotels_map)\n\n# add the Nearby Places as red circle markers\nfor lat, lng, label in zip(df_hotel5['lat'], df_hotel5['lng'], df_hotel5['name']):\n    folium.features.CircleMarker(\n        [lat, lng],\n        radius=5,\n        color='red',\n        popup=label,\n        fill = True,\n        fill_color='red',\n        fill_opacity=0.6\n        ).add_to(miami_hotels_map)\n\n# display map\nmiami_hotels_map"
        },
        {
            "cell_type": "markdown",
            "metadata": {},
            "source": "4. Clustering Hotels with Nearby Places using K-Means"
        },
        {
            "cell_type": "code",
            "execution_count": null,
            "metadata": {},
            "outputs": [],
            "source": "\n#Combine all dataframe and store it in df_nearbyplaces then reset the index values\ndf_nearbyplaces = pd.concat([df_hotel1, df_hotel2, df_hotel3, df_hotel4, df_hotel5], axis=0).reset_index(drop=True)\ndf_nearbyplaces.head()"
        },
        {
            "cell_type": "code",
            "execution_count": null,
            "metadata": {},
            "outputs": [],
            "source": "\nnumber_of_clusters = 5 #define number of cluster to be generated. In our case it is 5 because we have 5 hotels\n\nloc = df_nearbyplaces[['lat', 'lng']].values\nkmeans = KMeans(n_clusters=number_of_clusters, random_state=0).fit(loc)\n\nlabels = kmeans.labels_"
        },
        {
            "cell_type": "code",
            "execution_count": null,
            "metadata": {},
            "outputs": [],
            "source": "\ndf_nearbyplaces[\"Labels\"] = labels #adding cluster labels to main dataframe\ndf_nearbyplaces.head()"
        },
        {
            "cell_type": "code",
            "execution_count": null,
            "metadata": {},
            "outputs": [],
            "source": "cluster_centers = pd.DataFrame(kmeans.cluster_centers_)\ndf_nearbyplaces['Labels'].unique()"
        },
        {
            "cell_type": "markdown",
            "metadata": {},
            "source": "visualize"
        },
        {
            "cell_type": "code",
            "execution_count": null,
            "metadata": {},
            "outputs": [],
            "source": "# create map\nmap_clusters = folium.Map(location=[latitude, longitude+0.04], zoom_start=14) # generate map centred around Miami\n\n# set color scheme for the clusters\nx = np.arange(number_of_clusters)\nys = [i + x + (i*x)**2 for i in range(number_of_clusters)]\ncolors_array = cm.rainbow(np.linspace(0, 1, len(ys)))\nrainbow = [colors.rgb2hex(i) for i in colors_array]\n\n#add Cluster circles to the map\nfor lon, lat in zip(cluster_centers[0], cluster_centers[1]):\n    folium.CircleMarker([lon, lat], radius=50, color='yellow', fill=True, fill_opacity=0.25).add_to(map_clusters)\n    folium.Marker(\n    [lon, lat],\n    popup='Cluster Center',\n    ).add_to(map_clusters)\n\n# add markers to the map\nmarkers_colors = []\nfor lat, lon, poi, cluster in zip(df_nearbyplaces['lat'], df_nearbyplaces['lng'], df_nearbyplaces['name'], df_nearbyplaces['Labels']):\n    label = folium.Popup(str(poi) + ' Cluster ' + str(cluster), parse_html=True)\n    folium.CircleMarker(\n        [lat, lon],\n        radius=10,\n        popup=label,\n        color=rainbow[cluster-1],\n        fill=True,\n        fill_color=rainbow[cluster-1],\n        fill_opacity=0.7).add_to(map_clusters)\n       \nmap_clusters"
        },
        {
            "cell_type": "markdown",
            "metadata": {},
            "source": "Results:\n\nThis analysis Shows that it is possible to get information about hotels in Miami, and retriving ratings not of all of them. Some have no rating at all. All hotels were sorted based on ratings and Top 5 hotels were selected to recommend them to the user. Nearby places from selected 5 hotels were searched. From this data we can see that we have various categories of places that users can choose hotel based on having their interested nearby places to visit and enjoy. In the last step, clusters of best hotels and their surroundings were made for the costumer's convenience\n\nDiscussion:\n\nPeople choose hotels also by their price per night and by their facilities. Moreover, the proximity to central bus/train stations can also be an issue plus many more features. Here there is a basic analysis. A deeper analysis can and must be made in order to get the best costumer satisfaction. For example, a list of restaurants of the costumer choice can be shown, museums, stores and more...\n\nConclusion:\n\nIn this project a recommendation of the Best Hotels in a City together with nearby places was achived. The aim was to help Tourists in narrowing down the search for optimal location for stay. By getting ratings of All Hotels from Foursquare data, Top 5 hotels were sorted and a collection of nearby places which satisfy some basic requirements regarding favourite Places was added. Clustering of those nearby places was then performed in order to create major zones of interest (containing nearby places) and addresses of those zone centers were created to be used as starting points for exploration by the costumers.\nThe final decission will be made by the costumers based on specific Requirements in every recommended zone. the costumer will choose and select the hotel to stay in by his own needs. This project can provide the costumer more than enough information in order to help him choose the best possible hotel in every city."
        }
    ],
    "metadata": {
        "kernelspec": {
            "display_name": "Python 3.6",
            "language": "python",
            "name": "python3"
        },
        "language_info": {
            "codemirror_mode": {
                "name": "ipython",
                "version": 3
            },
            "file_extension": ".py",
            "mimetype": "text/x-python",
            "name": "python",
            "nbconvert_exporter": "python",
            "pygments_lexer": "ipython3",
            "version": "3.6.9"
        }
    },
    "nbformat": 4,
    "nbformat_minor": 1
}